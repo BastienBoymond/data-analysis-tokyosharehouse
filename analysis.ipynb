{
 "cells": [
  {
   "cell_type": "code",
   "execution_count": null,
   "metadata": {},
   "outputs": [],
   "source": [
    "import numpy as np\n",
    "import pandas as pd\n",
    "import matplotlib.pyplot as plt\n",
    "\n",
    "plt.rcParams.update({'figure.max_open_warning': 0})\n",
    "plt.close('all')"
   ]
  },
  {
   "cell_type": "code",
   "execution_count": null,
   "metadata": {},
   "outputs": [],
   "source": [
    "# Read in the data\n",
    "df = pd.read_csv('dataset/tokyosharehouse.csv')\n",
    "df.head()"
   ]
  },
  {
   "cell_type": "code",
   "execution_count": null,
   "metadata": {},
   "outputs": [],
   "source": [
    "# have a look at the data\n",
    "print(df.shape)\n",
    "df.info()\n",
    "df.describe()"
   ]
  },
  {
   "cell_type": "code",
   "execution_count": null,
   "metadata": {},
   "outputs": [],
   "source": [
    "#Price per region\n",
    "df.groupby('region').mean().plot(kind='bar', y='price', figsize=(15, 5), xlim=(500,70000), title='Mean price per region')"
   ]
  },
  {
   "cell_type": "code",
   "execution_count": null,
   "metadata": {},
   "outputs": [],
   "source": [
    "# access to a Region\n",
    "region = input('Enter the name of a Region you need (if you want all press Enter) :')\n",
    "\n",
    "labels = ['Available', 'Occupied', 'ComingSoon']\n",
    "#colors = ['red', 'gold', 'blue']\n",
    "colors = [\"#1f77b4\", \"#ff7f0e\", \"#d62728\"]\n",
    "for region, region_df in df.groupby('region'):\n",
    "    if region.__contains__(region) == False:\n",
    "        continue\n",
    "    pourcent = 100.*region_df['availablity'].value_counts()/len(region_df)\n",
    "    if len(pourcent) < 3:\n",
    "        for label in labels:\n",
    "            if label not in pourcent.index:\n",
    "                pourcent[label] = 0\n",
    "    plt.pie(pourcent, labels=labels, colors=colors, autopct='%1.1f%%', shadow=True, startangle=140)\n",
    "    plt.title(region)\n",
    "    plt.show()"
   ]
  },
  {
   "cell_type": "code",
   "execution_count": null,
   "metadata": {},
   "outputs": [],
   "source": [
    "# display a plot for every column \"distanceTo...\"\n",
    "distanceTo = input('Enter the name of the University yout need (if you want all press Enter) :')\n",
    "if distanceTo == '':\n",
    "    distanceTo = 'distanceTo'\n",
    "print(\"House contains between 10000 and 71615 yen and between 0 and 50 km of \")\n",
    "for column in df:\n",
    "    if (column.__contains__(distanceTo) == False):\n",
    "        continue\n",
    "    df.plot(kind='scatter', \n",
    "    y='price', x=column, \n",
    "    ylim=(10000, 71615), xlim=(0, 50), \n",
    "    figsize=(5, 5), \n",
    "    title=column +' Nb Chamber ' + str(df[(df['price'] > 10000) & (df['price'] < 71615) & (df[column] > 0) & (df[column] < 50)].shape[0]))\n"
   ]
  }
 ],
 "metadata": {
  "kernelspec": {
   "display_name": "Python 3.8.10 64-bit",
   "language": "python",
   "name": "python3"
  },
  "language_info": {
   "codemirror_mode": {
    "name": "ipython",
    "version": 3
   },
   "file_extension": ".py",
   "mimetype": "text/x-python",
   "name": "python",
   "nbconvert_exporter": "python",
   "pygments_lexer": "ipython3",
   "version": "3.8.10"
  },
  "orig_nbformat": 4,
  "vscode": {
   "interpreter": {
    "hash": "916dbcbb3f70747c44a77c7bcd40155683ae19c65e1c03b4aa3499c5328201f1"
   }
  }
 },
 "nbformat": 4,
 "nbformat_minor": 2
}
